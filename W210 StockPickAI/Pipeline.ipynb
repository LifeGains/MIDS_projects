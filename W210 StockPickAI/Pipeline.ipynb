{
 "cells": [
  {
   "cell_type": "markdown",
   "metadata": {},
   "source": [
    "# Process Pipeline for StockPicksAI using Amazon SageMaker\n",
    "Processing job downloads input from Amazon Simple Storage Service (Amazon S3), then uploads outputs to Amazon S3 during or after the processing job."
   ]
  },
  {
   "cell_type": "code",
   "execution_count": 1,
   "metadata": {},
   "outputs": [],
   "source": [
    "import boto3\n",
    "import sagemaker\n",
    "from sagemaker import get_execution_role\n",
    "from sagemaker.sklearn.processing import SKLearnProcessor\n",
    "from sagemaker.processing import ScriptProcessor\n",
    "\n",
    "region = boto3.session.Session().region_name\n",
    "\n",
    "#role = get_execution_role()\n",
    "# each person needs to create their own sagemaker roles (https://docs.aws.amazon.com/sagemaker/latest/dg/sagemaker-roles.html)\n",
    "role = 'arn:aws:iam::142074230768:role/w210sagemaker'\n"
   ]
  },
  {
   "cell_type": "code",
   "execution_count": 2,
   "metadata": {},
   "outputs": [],
   "source": [
    "import pandas as pd\n",
    "from sagemaker.processing import ProcessingInput, ProcessingOutput"
   ]
  },
  {
   "cell_type": "code",
   "execution_count": 3,
   "metadata": {},
   "outputs": [],
   "source": [
    "import json\n",
    "from sagemaker.s3 import S3Downloader"
   ]
  },
  {
   "cell_type": "code",
   "execution_count": 4,
   "metadata": {},
   "outputs": [],
   "source": [
    "#!cp preprocessing.py ./code\n",
    "from boto3 import Session\n",
    "import os\n",
    "\n",
    "session = Session()#profile_name='rrj')\n",
    "credentials = session.get_credentials()\n",
    "# Credentials are refreshable, so accessing your access key / secret key\n",
    "# separately can lead to a race condition. Use this to get an actual matched\n",
    "# set.\n",
    "current_credentials = credentials.get_frozen_credentials()\n",
    "wrds_username = os.environ.get('WRDS_USERNAME')\n",
    "# I would not recommend actually printing these. Generally unsafe.\n",
    "# print(current_credentials.access_key)\n",
    "# print(current_credentials.secret_key)\n",
    "# print(current_credentials.token)\n",
    "# print(wrds_username)"
   ]
  },
  {
   "cell_type": "code",
   "execution_count": 5,
   "metadata": {},
   "outputs": [],
   "source": [
    "# You must have a Wharton password set up and a .pgpass file created\n",
    "#\n",
    "wrdspass = !cat ~/.pgpass"
   ]
  },
  {
   "cell_type": "code",
   "execution_count": 5,
   "metadata": {},
   "outputs": [
    {
     "name": "stdout",
     "output_type": "stream",
     "text": [
      "mkdir: cannot create directory ‘docker’: File exists\n"
     ]
    }
   ],
   "source": [
    "!mkdir docker"
   ]
  },
  {
   "cell_type": "code",
   "execution_count": 6,
   "metadata": {},
   "outputs": [],
   "source": [
    "!cp s3finance.py docker"
   ]
  },
  {
   "cell_type": "code",
   "execution_count": 7,
   "metadata": {},
   "outputs": [
    {
     "name": "stdout",
     "output_type": "stream",
     "text": [
      "Overwriting docker/Dockerfile\n"
     ]
    }
   ],
   "source": [
    "%%writefile docker/Dockerfile\n",
    "\n",
    "FROM python:3.7-slim-buster\n",
    "\n",
    "RUN pip3 install boto3 joblib matplotlib numpy pandas pandas_market_calendars psutil python_dateutil s3fs \\\n",
    "scikit_learn tqdm wrds fastparquet pyarrow matplotlib matplotlib-label-lines sklearn datetime python-dateutil \\\n",
    "statistics pandas_market_calendars joblib scipy shap xgboost category_encoders seaborn ipython\n",
    "\n",
    "RUN pwd\n",
    "COPY s3finance.py /tmp\n",
    "ENV PYTHONUNBUFFERED=TRUE\n",
    "\n",
    "ENTRYPOINT [\"python3\"]"
   ]
  },
  {
   "cell_type": "code",
   "execution_count": 8,
   "metadata": {},
   "outputs": [
    {
     "name": "stdout",
     "output_type": "stream",
     "text": [
      "Sending build context to Docker daemon  14.34kB\n",
      "Step 1/6 : FROM python:3.7-slim-buster\n",
      " ---> 7eb290bee268\n",
      "Step 2/6 : RUN pip3 install boto3 joblib matplotlib numpy pandas pandas_market_calendars psutil python_dateutil s3fs scikit_learn tqdm wrds fastparquet pyarrow matplotlib matplotlib-label-lines sklearn datetime python-dateutil statistics pandas_market_calendars joblib scipy shap xgboost category_encoders seaborn ipython\n",
      " ---> Using cache\n",
      " ---> ed264f71c5c8\n",
      "Step 3/6 : RUN pwd\n",
      " ---> Using cache\n",
      " ---> 872bef0a717d\n",
      "Step 4/6 : COPY s3finance.py /tmp\n",
      " ---> Using cache\n",
      " ---> fb05e90d9346\n",
      "Step 5/6 : ENV PYTHONUNBUFFERED=TRUE\n",
      " ---> Using cache\n",
      " ---> 48772d07d26c\n",
      "Step 6/6 : ENTRYPOINT [\"python3\"]\n",
      " ---> Using cache\n",
      " ---> e078aea4dfd6\n",
      "Successfully built e078aea4dfd6\n",
      "Successfully tagged sagemaker-processing-container:latest\n"
     ]
    }
   ],
   "source": [
    "import boto3\n",
    "\n",
    "account_id = boto3.client(\"sts\").get_caller_identity().get(\"Account\")\n",
    "ecr_repository = \"sagemaker-processing-container\"\n",
    "tag = \":latest\"\n",
    "\n",
    "uri_suffix = \"amazonaws.com\"\n",
    "if region in [\"cn-north-1\", \"cn-northwest-1\"]:\n",
    "    uri_suffix = \"amazonaws.com.cn\"\n",
    "processing_repository_uri = \"{}.dkr.ecr.{}.{}/{}\".format(\n",
    "    account_id, region, uri_suffix, ecr_repository + tag\n",
    ")\n",
    "\n",
    "# Create ECR repository and push docker image\n",
    "!docker build -t $ecr_repository docker\n"
   ]
  },
  {
   "cell_type": "code",
   "execution_count": 9,
   "metadata": {},
   "outputs": [
    {
     "name": "stdout",
     "output_type": "stream",
     "text": [
      "WARNING! Using --password via the CLI is insecure. Use --password-stdin.\n",
      "WARNING! Your password will be stored unencrypted in /home/ec2-user/.docker/config.json.\n",
      "Configure a credential helper to remove this warning. See\n",
      "https://docs.docker.com/engine/reference/commandline/login/#credentials-store\n",
      "\n",
      "Login Succeeded\n",
      "\n",
      "An error occurred (RepositoryAlreadyExistsException) when calling the CreateRepository operation: The repository with name 'sagemaker-processing-container' already exists in the registry with id '142074230768'\n",
      "The push refers to repository [142074230768.dkr.ecr.us-west-2.amazonaws.com/sagemaker-processing-container]\n",
      "\n",
      "\u001b[1Bbe57e6ac: Preparing \n",
      "\u001b[1Bd9c091f4: Preparing \n",
      "\u001b[1B30a9ebbb: Preparing \n",
      "\u001b[1B39f02cb7: Preparing \n",
      "\u001b[1B9b2c8960: Preparing \n",
      "\u001b[1Bb6c0b614: Preparing \n",
      "\u001b[1Bdb357ed5: Layer already exists \u001b[2A\u001b[2Klatest: digest: sha256:9f8f066206ef61e5aabf8a1b62b7c7967fdaf3bd1e998aaed4fb5effc35cc429 size: 1792\n"
     ]
    }
   ],
   "source": [
    "!$(aws ecr get-login --region $region --registry-ids $account_id --no-include-email)\n",
    "!aws ecr create-repository --repository-name $ecr_repository\n",
    "!docker tag {ecr_repository + tag} $processing_repository_uri\n",
    "!docker push $processing_repository_uri"
   ]
  },
  {
   "cell_type": "code",
   "execution_count": 6,
   "metadata": {},
   "outputs": [],
   "source": [
    "processing_repository_uri='142074230768.dkr.ecr.us-west-2.amazonaws.com/sagemaker-processing-container'"
   ]
  },
  {
   "cell_type": "code",
   "execution_count": 8,
   "metadata": {},
   "outputs": [],
   "source": [
    "# do id mapping\n",
    "script_processor = ScriptProcessor(\n",
    "    command=[\"python3\"],\n",
    "    image_uri=processing_repository_uri,\n",
    "    role=role,\n",
    "    instance_count=1,\n",
    "    instance_type=\"ml.m5.xlarge\",\n",
    ")"
   ]
  },
  {
   "cell_type": "code",
   "execution_count": null,
   "metadata": {},
   "outputs": [],
   "source": []
  },
  {
   "cell_type": "code",
   "execution_count": 14,
   "metadata": {},
   "outputs": [],
   "source": [
    "# get company ID mappings\n",
    "# Takes about 15-20 minutes\n",
    "script_processor.run(\n",
    "    code=\"getidmapping.py\",\n",
    "    inputs=[],\n",
    "    outputs=[],\n",
    "    arguments=[\"--aws-access-key-id\", current_credentials.access_key,\n",
    "               \"--aws-secret-access-key\", current_credentials.secret_key,\n",
    "               \"--wrds-username\", wrdspass[0].split(':')[3],\n",
    "               \"--wrds-pgpass\",wrdspass[0].split(':')[4],\n",
    "               \"--write-data\",\"1\"]\n",
    ")\n",
    "script_processor_job_description = script_processor.jobs[-1].describe()\n",
    "#print(script_processor_job_description)"
   ]
  },
  {
   "cell_type": "code",
   "execution_count": null,
   "metadata": {},
   "outputs": [],
   "source": [
    "script_processor = ScriptProcessor(\n",
    "    command=[\"python3\"],\n",
    "    image_uri=processing_repository_uri,\n",
    "    role=role,\n",
    "    instance_count=1,\n",
    "    instance_type=\"ml.m5.12xlarge\",\n",
    "#    instance_type=\"ml.m5.xlarge\",\n",
    ")"
   ]
  },
  {
   "cell_type": "code",
   "execution_count": 7,
   "metadata": {},
   "outputs": [
    {
     "data": {
      "text/plain": [
       "'142074230768.dkr.ecr.us-west-2.amazonaws.com/sagemaker-processing-container'"
      ]
     },
     "execution_count": 7,
     "metadata": {},
     "output_type": "execute_result"
    }
   ],
   "source": [
    "processing_repository_uri"
   ]
  },
  {
   "cell_type": "code",
   "execution_count": null,
   "metadata": {},
   "outputs": [],
   "source": [
    "# this job gets all the price, and fundamental and quarterly data from Wharton Research Data Service\n",
    "# It runs a long time (8-10) hours, so be aware - generates stuff in the raw summary area of S3\n",
    "#\n",
    "script_processor.run(\n",
    "    code=\"getfeaturedata.py\",\n",
    "    inputs=[],\n",
    "    outputs=[],\n",
    "    arguments=[\"--aws-access-key-id\", current_credentials.access_key,\n",
    "               \"--aws-secret-access-key\", current_credentials.secret_key,\n",
    "               \"--wrds-username\", wrdspass[0].split(':')[3],\n",
    "               \"--wrds-pgpass\",wrdspass[0].split(':')[4],\n",
    "               \"--write-data\",\"1\"]\n",
    ")\n",
    "script_processor_job_description = script_processor.jobs[-1].describe()\n",
    "#print(script_processor_job_description)"
   ]
  },
  {
   "cell_type": "raw",
   "metadata": {},
   "source": []
  },
  {
   "cell_type": "code",
   "execution_count": null,
   "metadata": {},
   "outputs": [],
   "source": [
    "print(script_processor_job_description)"
   ]
  },
  {
   "cell_type": "code",
   "execution_count": null,
   "metadata": {},
   "outputs": [],
   "source": [
    "\n",
    "# This job reads all the raw feature summaries and create final joined features that we will use\n",
    "# for training.\n",
    "#\n",
    "script_processor.run(\n",
    "    code=\"generatefeatures.py\",\n",
    "    inputs=[],\n",
    "    outputs=[],\n",
    "    arguments=[\"--aws-access-key-id\", current_credentials.access_key,\n",
    "               \"--aws-secret-access-key\", current_credentials.secret_key,\n",
    "               \"--write-data\",\"1\"]\n",
    ")\n",
    "script_processor_job_description = script_processor.jobs[-1].describe()\n",
    "#print(script_processor_job_description)"
   ]
  },
  {
   "cell_type": "code",
   "execution_count": null,
   "metadata": {},
   "outputs": [],
   "source": []
  },
  {
   "cell_type": "code",
   "execution_count": null,
   "metadata": {},
   "outputs": [],
   "source": [
    "print(script_processor_job_description)"
   ]
  },
  {
   "cell_type": "code",
   "execution_count": 8,
   "metadata": {},
   "outputs": [],
   "source": [
    "script_processor = ScriptProcessor(\n",
    "    command=[\"python3\"],\n",
    "    image_uri=processing_repository_uri,\n",
    "    role=role,\n",
    "    instance_count=1,\n",
    "#    instance_type=\"ml.m5.xlarge\",\n",
    "#    instance_type=\"ml.r5.16xlarge\", # 6:27\n",
    "#    instance_type=\"ml.c5.18xlarge\", # 6:27\n",
    "#    instance_type=\"ml.m5.24xlarge\", # 11:00 hours\n",
    "#    instance_type=\"ml.m5.12xlarge\", #10: hours\n",
    "    instance_type=\"ml.c5.18xlarge\", #7: hours\n",
    ")"
   ]
  },
  {
   "cell_type": "code",
   "execution_count": 13,
   "metadata": {},
   "outputs": [],
   "source": [
    "#\n",
    "# This job trains the models. We can dictate what features we look for and other parameters to choose\n",
    "# appropriate stocks.\n",
    "# When we run over long times from 1990 as in this case, it could take up to 10 or more hours to run.\n",
    "# The default limit on Sagemaker is 24 hours so something to be careful of.\n",
    "#\n",
    "\n",
    "script_processor.run(\n",
    "    code=\"trainmodels.py\",\n",
    "    inputs=[],\n",
    "    outputs=[],\n",
    "    arguments=[\"--aws-access-key-id\", current_credentials.access_key,\n",
    "               \"--aws-secret-access-key\", current_credentials.secret_key,\n",
    "               \"--write-data\",\"1\",\n",
    "               \"--period\", \"10\",\n",
    "               \"--cycles\", \"300\",\n",
    "               \"--min-price\", \"5\",\n",
    "               \"--market-cap\",\"300\",\n",
    "               \"--output-analysis\",\"0\",\n",
    "               \"--train-start\", \"1990-01-01\",\n",
    "               \"--end-period\", \"2023-08-01\",\n",
    "               \"--key-features1\", \"adjusted_price,rd_sale,gsubind,fcf_ocf,stko,pe_op_basic,peg_trailing,volatility,gprof,inv_turn,ocf_lct,gpm,debt_ebitda,ggroup,peg_ltgforward,divyiel\\\n",
    "d,at_turn,pe_exi,pretret_earnat,sic,eps,rect_act,cash_debt,rect_turn,evm,pe_inc,invt_act\",\n",
    "               \"--key-features2\",\"naics,pay_turn,lt_ppent,de_ratio,sale_nwc,intcov_ratio,debt_assets,cash_conversion,roa,capei,spcindcd,totdebt_invcap,efftax,dpr,pretret_noa,debt_at,roce,profit_lct,cshoc,sal\\\n",
    "e_equity,prccd,prchd,prcld,prcod,prcstd,pe_op_basic\",\n",
    "               \"--version\",\"1659216789.930134\",\n",
    "               \"--savemodel-cycle\",\"12\",\n",
    "               \"--scoring\",\"f1\"]\n",
    ")\n",
    "script_processor_job_description_train = script_processor.jobs[-1].describe()\n",
    "#print(script_processor_job_description)"
   ]
  },
  {
   "cell_type": "code",
   "execution_count": null,
   "metadata": {},
   "outputs": [],
   "source": [
    "print(script_processor_job_description_train)"
   ]
  },
  {
   "cell_type": "code",
   "execution_count": null,
   "metadata": {},
   "outputs": [],
   "source": [
    "# Now we are going to do the model evaluations so that \n",
    "# we can see overall how our models predict outcomes over an xtended period\n",
    "# and which features are most important.\n",
    "#\n",
    "script_processor = ScriptProcessor(\n",
    "    command=[\"python3\"],\n",
    "    image_uri=processing_repository_uri,\n",
    "    role=role,\n",
    "    instance_count=1,\n",
    "#    instance_type=\"ml.m5.xlarge\",\n",
    "#    instance_type=\"ml.r5.16xlarge\", \n",
    "#    instance_type=\"ml.c5.18xlarge\",\n",
    "#    instance_type=\"ml.m5.24xlarge\",\n",
    "    instance_type=\"ml.m5.12xlarge\", #10: hours\n",
    ")"
   ]
  },
  {
   "cell_type": "code",
   "execution_count": null,
   "metadata": {},
   "outputs": [],
   "source": [
    "script_processor.run(\n",
    "#    code=\"generatefeatures.py\",\n",
    "    inputs=[],\n",
    "    outputs=[],\n",
    "    arguments=[\"--aws-access-key-id\", current_credentials.access_key,\n",
    "               \"--aws-secret-access-key\", current_credentials.secret_key,\n",
    "               \"--write-data\",\"1\"]\n",
    ")\n",
    "script_processor_job_description = script_processor.jobs[-1].describe()\n",
    "#print(script_processor_job_description)"
   ]
  }
 ],
 "metadata": {
  "kernelspec": {
   "display_name": "Python 3",
   "language": "python",
   "name": "python3"
  },
  "language_info": {
   "codemirror_mode": {
    "name": "ipython",
    "version": 3
   },
   "file_extension": ".py",
   "mimetype": "text/x-python",
   "name": "python",
   "nbconvert_exporter": "python",
   "pygments_lexer": "ipython3",
   "version": "3.8.3"
  }
 },
 "nbformat": 4,
 "nbformat_minor": 5
}
