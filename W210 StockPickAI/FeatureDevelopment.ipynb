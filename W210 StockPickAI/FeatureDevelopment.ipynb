{
 "cells": [
  {
   "cell_type": "markdown",
   "id": "1c8b0074-8ee4-4ede-b414-9091184e1e1d",
   "metadata": {},
   "source": [
    "# Core code for Feature development"
   ]
  },
  {
   "cell_type": "code",
   "execution_count": 8,
   "id": "fff9bb50-d853-4d67-a9ba-8b73411c11c3",
   "metadata": {},
   "outputs": [],
   "source": [
    "# Get all libraries\n",
    "import numpy as np\n",
    "import pandas as pd\n",
    "import pprint\n",
    "from tqdm import tqdm\n",
    "import s3finance as s3c\n",
    "import importlib\n",
    "import gc"
   ]
  },
  {
   "cell_type": "code",
   "execution_count": 9,
   "id": "5664f8d3-4e67-4fc0-8938-724f606ae002",
   "metadata": {},
   "outputs": [],
   "source": [
    "# Kevin's fill operations\n",
    "def dofundsfills(df, col_name=None, lower=None,upper=None,domean=True,fillzero=True):\n",
    "    if lower is not None:\n",
    "        df[col_name].clip(lower=lower, inplace=True)\n",
    "    if upper is not None:\n",
    "        df[col_name].clip(upper=upper, inplace=True)\n",
    "    #df[col_name] = df.groupby('gvkey')[col_name].apply(lambda x : x.ffill().bfill())\n",
    "    df[col_name] = df.groupby('cusip')[col_name].apply(lambda x : x.ffill().bfill())\n",
    "    # df[col_name] = df.groupby('ticker')[col_name].apply(lambda x : x.ffill().bfill())\n",
    "    if domean:\n",
    "        df[col_name].fillna(df.groupby('cusip')[col_name].transform('mean'), inplace=True)\n",
    "        #df[col_name].fillna(df.groupby('gvkey')[col_name].transform('mean'), inplace=True)\n",
    "    if fillzero:\n",
    "        df[col_name].fillna(0, inplace=True)\n",
    "\n",
    "def dopricesfills(df, col_name=None, lower=None,upper=None,domean=True,fillzero=True):\n",
    "    if lower is not None:\n",
    "        df[col_name].clip(lower=lower, inplace=True)\n",
    "    if upper is not None:\n",
    "        df[col_name].clip(upper=upper, inplace=True)\n",
    "    df[col_name] = df.groupby('cusip')[col_name].apply(lambda x : x.ffill().bfill())\n",
    "    #df[col_name] = df.groupby('tic')[col_name].apply(lambda x : x.ffill().bfill())\n",
    "    if domean:\n",
    "        df[col_name].fillna(df.groupby('cusip')[col_name].transform('mean'), inplace=True)\n",
    "        #df[col_name].fillna(df.groupby('tic')[col_name].transform('mean'), inplace=True)\n",
    "    if fillzero:\n",
    "        df[col_name].fillna(0, inplace=True)"
   ]
  },
  {
   "cell_type": "code",
   "execution_count": 10,
   "id": "fa4a9256-4bba-4be7-8824-b1b1cfd85a8e",
   "metadata": {},
   "outputs": [],
   "source": [
    "AWS_BUCKET = \"w210-wrds-data\""
   ]
  },
  {
   "cell_type": "code",
   "execution_count": 11,
   "id": "58019cf0-4cae-49b5-aacc-724322c1a567",
   "metadata": {},
   "outputs": [],
   "source": [
    "#\n",
    "# Setup S3 access to bucket for all financial data.\n",
    "\n",
    "s3f = s3c.s3finance(AWS_BUCKET,version='1658902110.776109')\n"
   ]
  },
  {
   "cell_type": "code",
   "execution_count": 26,
   "id": "6d07fb16-49d5-4185-a2d7-f0cddc0fa6f6",
   "metadata": {},
   "outputs": [
    {
     "name": "stdout",
     "output_type": "stream",
     "text": [
      "CPU times: user 16.1 s, sys: 9.93 s, total: 26 s\n",
      "Wall time: 21.8 s\n"
     ]
    }
   ],
   "source": [
    "%%time\n",
    "# stack all the items in the list\n",
    "stackedprices = s3f.getrawsummaryprices()"
   ]
  },
  {
   "cell_type": "code",
   "execution_count": null,
   "id": "0b065e7d-0971-4014-8144-fda9a5ddecff",
   "metadata": {},
   "outputs": [],
   "source": [
    "n = gc.collect()\n",
    "print(\"Number of unreachable objects collected by GC:\", n)"
   ]
  },
  {
   "cell_type": "code",
   "execution_count": null,
   "id": "9698c3ea-4d7b-4efe-a0b3-4f1f45458bc2",
   "metadata": {},
   "outputs": [],
   "source": [
    "%%time\n",
    "# calculate price volatility\n",
    "stackedprices = stackedprices.groupby(\"cusip\").\\\n",
    "apply(lambda grp: grp.sort_values('datadate',ascending=True).\\\n",
    "      assign(volatility=(np.log(grp['adjusted_price']/(grp['adjusted_price'].shift())).rolling(21).std())*252**.5)).reset_index(drop=True)\n",
    "\n",
    "# fill stackedprices\n",
    "dopricesfills(stackedprices,col_name = 'volatility',lower=None,upper=1,domean=False,fillzero=False)"
   ]
  },
  {
   "cell_type": "code",
   "execution_count": null,
   "id": "b3022b25-5365-4811-a53f-a641a274df69",
   "metadata": {},
   "outputs": [],
   "source": [
    "%%time\n",
    "# do fill in values\n",
    "# these values should be zero since they are periodic\n",
    "stackedprices[['div','divd','dvi','dvrated','eps','epsmo']] =  stackedprices[['div','divd','dvi','dvrated','eps','epsmo']].fillna(0)\n",
    "stackedprices[stackedprices.select_dtypes(include=np.number).columns] = \\\n",
    "stackedprices.groupby('cusip').apply(lambda grp: grp.sort_values('datadate',ascending=True).select_dtypes(include=np.number).ffill().bfill().fillna(0)).reset_index(drop=True)"
   ]
  },
  {
   "cell_type": "code",
   "execution_count": null,
   "id": "12d3ceb5-1eb8-4e01-838c-688832099e6a",
   "metadata": {},
   "outputs": [],
   "source": [
    "print(len(stackedprices))\n",
    "print(stackedprices.isna().sum())"
   ]
  },
  {
   "cell_type": "code",
   "execution_count": null,
   "id": "4c2d773b-0e66-417e-9a28-cf53c7234870",
   "metadata": {},
   "outputs": [],
   "source": [
    "%%time\n",
    "\n",
    "# save prices summary\n",
    "s3f.putsummaryprices(stackedprices)\n",
    "stackedprices = None"
   ]
  },
  {
   "cell_type": "code",
   "execution_count": null,
   "id": "262c18cf-3284-47f2-a129-f5d441994290",
   "metadata": {},
   "outputs": [],
   "source": [
    "n = gc.collect()\n",
    "print(\"Number of unreachable objects collected by GC:\", n)"
   ]
  },
  {
   "cell_type": "code",
   "execution_count": 36,
   "id": "fc3e3d17-5325-4821-b9cd-380c245b296f",
   "metadata": {},
   "outputs": [],
   "source": [
    "# do all the stacked funds operations\n",
    "stackedfunds = s3f.getrawsummaryfund()"
   ]
  },
  {
   "cell_type": "code",
   "execution_count": null,
   "id": "c8c581ae-feba-41f9-a197-aa1015069546",
   "metadata": {},
   "outputs": [],
   "source": [
    "col_name = 'divyield'\n",
    "\n",
    "#stackedfunds[col_name].clip(upper=0.2, inplace=True)\n",
    "stackedfunds[col_name].fillna(0, inplace=True)\n",
    "\n",
    "dofundsfills(stackedfunds,col_name = 'sale_nwc',lower=-1000,upper=1000,domean=False)\n",
    "\n",
    "dofundsfills(stackedfunds,col_name = 'cash_conversion',lower=None, upper=2000,domean=True)\n",
    "\n",
    "dofundsfills(stackedfunds,col_name = 'inv_turn',lower=None,upper=200,domean=False)\n",
    "\n",
    "dofundsfills(stackedfunds,col_name = 'int_debt',lower=None,upper=5,domean=True)\n",
    "\n",
    "dofundsfills(stackedfunds,col_name = 'invt_act',lower=None,upper=1,domean=True)\n",
    "\n",
    "dofundsfills(stackedfunds,col_name = 'int_totdebt',lower=None,upper=5,domean=True)\n",
    "\n",
    "dofundsfills(stackedfunds,col_name = 'pretret_noa',lower=-4,upper=4,domean=False)\n",
    "\n",
    "dofundsfills(stackedfunds,col_name = 'pretret_earnat',lower=-2,upper=2,domean=False)\n",
    "\n",
    "dofundsfills(stackedfunds,col_name = 'rect_act',lower=None,upper=1,domean=True)\n",
    "\n",
    "dofundsfills(stackedfunds,col_name = 'ocf_lct',lower=-8,upper=8,domean=False)\n",
    "\n",
    "dofundsfills(stackedfunds,col_name = 'profit_lct',lower=-8,upper=8,domean=False)\n",
    "\n",
    "dofundsfills(stackedfunds,col_name = 'curr_debt',lower=None,upper=1,domean=True)\n",
    "\n",
    "dofundsfills(stackedfunds,col_name = 'quick_ratio',lower=None,upper=10,domean=True)\n",
    "\n",
    "dofundsfills(stackedfunds,col_name = 'efftax',lower=-1,upper=1,domean=True)\n",
    "\n",
    "dofundsfills(stackedfunds,col_name = 'intcov_ratio',lower=-500,upper=500,domean=True)\n",
    "\n",
    "dofundsfills(stackedfunds,col_name = 'dpr',lower=-4,upper=4,domean=False)\n",
    "\n",
    "dofundsfills(stackedfunds,col_name = 'fcf_ocf',lower=-10,upper=1,domean=False)\n",
    "\n",
    "dofundsfills(stackedfunds,col_name = 'peg_1yrforward',lower=None,upper=None,domean=True)\n",
    "\n",
    "dofundsfills(stackedfunds,col_name = 'short_debt',lower=0,upper=1,domean=False)\n",
    "\n",
    "dofundsfills(stackedfunds,col_name = 'pay_turn',lower=-10,upper=100,domean=False)\n",
    "\n",
    "dofundsfills(stackedfunds,col_name = 'roe',lower=-5,upper=5,domean=False)\n",
    "\n",
    "dofundsfills(stackedfunds,col_name = 'sale_equity',lower=None,upper=30,domean=True)\n",
    "\n",
    "dofundsfills(stackedfunds,col_name = 'capei',lower=-100,upper=100,domean=True)\n",
    "\n",
    "dofundsfills(stackedfunds,col_name = 'dltt_be',lower=None,upper=10,domean=False)\n",
    "\n",
    "dofundsfills(stackedfunds,col_name = 'ptb',lower=None,upper=50,domean=True)\n",
    "\n",
    "dofundsfills(stackedfunds,col_name = 'rect_turn',lower=None,upper=200,domean=True)\n",
    "\n",
    "dofundsfills(stackedfunds,col_name = 'pe_op_basic',lower=-200,upper=200,domean=True)\n",
    "\n",
    "dofundsfills(stackedfunds,col_name = 'aftret_invcapx',lower=-1.5,upper=1.5,domean=True)\n",
    "\n",
    "dofundsfills(stackedfunds,col_name = 'lt_ppent',lower=None,upper=200,domean=True)\n",
    "\n",
    "dofundsfills(stackedfunds,col_name = 'pe_inc',lower=-100,upper=200,domean=True)\n",
    "\n",
    "dofundsfills(stackedfunds,col_name = 'cfm',lower=-5,upper=5,domean=False)\n",
    "\n",
    "dofundsfills(stackedfunds,col_name = 'debt_capital',lower=-5,upper=5,domean=True)\n",
    "\n",
    "dofundsfills(stackedfunds,col_name = 'cash_debt',lower=-5,upper=5,domean=False)\n",
    "\n",
    "dofundsfills(stackedfunds,col_name = 'roce',lower=-2,upper=2,domean=False)\n",
    "\n",
    "dofundsfills(stackedfunds,col_name = 'at_turn',lower=None,upper=2,domean=False)\n",
    "\n",
    "dofundsfills(stackedfunds,col_name = 'sale_invcap',lower=-1,upper=10,domean=True)\n",
    "\n",
    "dofundsfills(stackedfunds,col_name = 'adv_sale',lower=0,upper=1,domean=True)\n",
    "\n",
    "dofundsfills(stackedfunds,col_name = 'staff_sale',lower=None,upper=1,domean=False)\n",
    "\n",
    "dofundsfills(stackedfunds,col_name = 'gpm',lower=-5,upper=1,domean=True)\n",
    "\n",
    "dofundsfills(stackedfunds,col_name = 'evm',lower=-100,upper=100,domean=True)\n",
    "\n",
    "dofundsfills(stackedfunds,col_name = 'opmad',lower=-5,upper=1,domean=True)\n",
    "\n",
    "dofundsfills(stackedfunds,col_name = 'ps',lower=None,upper=100,domean=True)\n",
    "\n",
    "dofundsfills(stackedfunds,col_name = 'totdebt_invcap',lower=None,upper=5,domean=False)\n",
    "\n",
    "dofundsfills(stackedfunds,col_name = 'pcf',lower=-100,upper=100,domean=True)\n",
    "\n",
    "dofundsfills(stackedfunds,col_name = 'roa',lower=-1,upper=1,domean=False)\n",
    "\n",
    "dofundsfills(stackedfunds,col_name = 'accrual',lower=-1,upper=1,domean=False)\n",
    "\n",
    "dofundsfills(stackedfunds,col_name = 'aftret_equity',lower=-5,upper=5,domean=False)\n",
    "\n",
    "dofundsfills(stackedfunds,col_name = 'equity_invcap',lower=-1,upper=1,domean=True)\n",
    "\n",
    "dofundsfills(stackedfunds,col_name = 'capital_ratio',lower=-1,upper=2,domean=False)\n",
    "\n",
    "dofundsfills(stackedfunds,col_name = 'lt_debt',lower=None,upper=1,domean=False)\n",
    "\n",
    "dofundsfills(stackedfunds,col_name = 'gprof',lower=-1,upper=2,domean=False)\n",
    "\n",
    "dofundsfills(stackedfunds,col_name = 'cash_lt',lower=None,upper=10,domean=False)\n",
    "\n",
    "dofundsfills(stackedfunds,col_name = 'de_ratio',lower=-50,upper=50,domean=False)\n",
    "\n",
    "dofundsfills(stackedfunds,col_name = 'debt_assets',lower=None,upper=2,domean=True)\n",
    "\n",
    "dofundsfills(stackedfunds,col_name = 'rd_sale',lower=None,upper=5,domean=False)"
   ]
  },
  {
   "cell_type": "code",
   "execution_count": null,
   "id": "edaf91c0-05ed-4ffa-b406-91ea7b6c2359",
   "metadata": {},
   "outputs": [],
   "source": [
    "stackedfunds.isna().sum().sort_values(ascending=False)"
   ]
  },
  {
   "cell_type": "code",
   "execution_count": null,
   "id": "6378f527-1772-4ad6-be77-90e0f4e70b2a",
   "metadata": {},
   "outputs": [],
   "source": [
    "\n",
    "stackedfunds = stackedfunds.drop(['peg_trailing', 'peg_ltgforward', 'pe_op_dil', 'curr_ratio', 'cash_ratio', \n",
    "                  'intcov', 'bm', 'pe_exi', 'debt_ebitda', 'opmbd', 'ptpm', 'npm', 'debt_invcap', 'aftret_eq', 'debt_at'], axis=1)"
   ]
  },
  {
   "cell_type": "code",
   "execution_count": null,
   "id": "3e66030d-4a5a-4b81-8e44-0122e5949a2f",
   "metadata": {},
   "outputs": [],
   "source": []
  },
  {
   "cell_type": "code",
   "execution_count": null,
   "id": "220bd7aa-3397-4a68-ae96-ea865b041df3",
   "metadata": {},
   "outputs": [],
   "source": [
    "#\n",
    "s3f.putsummaryfund(stackedfunds)\n",
    "\n",
    "stackedfunds = None"
   ]
  },
  {
   "cell_type": "code",
   "execution_count": null,
   "id": "9583bf16-de4b-43bd-aea2-4b8cffda2123",
   "metadata": {},
   "outputs": [],
   "source": [
    "n = gc.collect()\n",
    "print(\"Number of unreachable objects collected by GC:\", n)"
   ]
  },
  {
   "cell_type": "code",
   "execution_count": 12,
   "id": "1d317741-d5e4-44a6-a03e-02f6a1483315",
   "metadata": {},
   "outputs": [],
   "source": [
    "#\n",
    "# get stacked quarter and annual\n",
    "stackedquarter = s3f.getrawsummaryquarter()\n",
    "stackedannual = s3f.getrawsummaryannual()"
   ]
  },
  {
   "cell_type": "code",
   "execution_count": null,
   "id": "49ec2728-037b-4c59-90b2-f9f48a157239",
   "metadata": {},
   "outputs": [],
   "source": [
    "col_name = ['optvolq', 'market_cap']\n",
    "\n",
    "for i in col_name:\n",
    "    # df[col_name].clip(lower=-1000, inplace=True)\n",
    "    # df[col_name].clip(upper=2000, inplace=True)\n",
    "    #stackedquarter[i] = df.groupby('gvkey')[i].apply(lambda x : x.ffill())\n",
    "    stackedquarter[i] = stackedquarter.groupby('cusip')[i].apply(lambda x : x.ffill())\n",
    "    #stackedquarter[i] = stackedquarter.groupby('tic')[i].apply(lambda x : x.ffill())\n",
    "    #stackedquarter[i].fillna(stackedquarter.groupby('gvkey')[i].transform('mean'), inplace=True)\n",
    "    stackedquarter[i].fillna(stackedquarter.groupby('cusip')[i].transform('mean'), inplace=True)\n",
    "    stackedquarter[i].fillna(0, inplace=True)\n"
   ]
  },
  {
   "cell_type": "code",
   "execution_count": null,
   "id": "a0e3690d-ab42-488c-abe4-5b9a4d308127",
   "metadata": {},
   "outputs": [],
   "source": [
    "col_name = [\"revtq\", \"capsftq\" , \"optvolq\" , \"stkcpaq\" , \"xrdq\" , \"xsgaq\" , \"stkcoq\" , \"cshopq\" , \"cshiq\" , \"chq\" , \"dlttq\" , \"cheq\" , \"oiadpq\" , \"niq\"]\n",
    "\n",
    "for i in col_name:\n",
    "    # stackedquarter[col_name].clip(lower=-1000, inplace=True)\n",
    "    # stackedquarter[col_name].clip(upper=2000, inplace=True)\n",
    "    # stackedquarter[col_name] = df.groupby('gvkey')[col_name].apply(lambda x : x.ffill())\n",
    "    # stackedquarter[col_name] = df.groupby('cusip')[col_name].apply(lambda x : x.ffill())\n",
    "    # stackedquarter[col_name] = df.groupby('ticker')[col_name].apply(lambda x : x.ffill())\n",
    "    # stackedquarter[col_name].fillna(df.groupby('gvkey')[col_name].transform('mean'), inplace=True)\n",
    "    stackedquarter[i].fillna(0, inplace=True)"
   ]
  },
  {
   "cell_type": "code",
   "execution_count": null,
   "id": "528b6547-3e13-4f0e-8f48-e90ad7b7ccf4",
   "metadata": {},
   "outputs": [],
   "source": [
    "# identifier = stackedquarter['cusip']\n",
    "def yoychg(df, identifier, feature, target_feature):\n",
    "    df[target_feature] = np.where(df[identifier] == df[identifier].shift(periods=4),\n",
    "    df[feature].diff(periods=4)/ df[feature].abs().shift(periods=4)\n",
    "    , 0)\n",
    "    # Set ceiling and floor of +/-500%\n",
    "    df[target_feature] = np.where(df[target_feature] <= -5, -5, df[target_feature])\n",
    "    df[target_feature] = np.where(df[target_feature] >= 5, 5, df[target_feature])\n",
    "    df[target_feature].fillna(0, inplace=True)\n",
    "    return df[target_feature]"
   ]
  },
  {
   "cell_type": "code",
   "execution_count": null,
   "id": "8ea080f5-5a68-45ca-88e7-894999cbf857",
   "metadata": {},
   "outputs": [],
   "source": [
    "def pct_revenue(df, identifier, feature, target_feature):\n",
    "    df[target_feature] = abs(df[feature]) / abs(df['revtq'])\n",
    "    # Set ceiling and floor of +/-500%\n",
    "    df[target_feature] = np.where(df[target_feature] <= -5, -5, df[target_feature])\n",
    "    df[target_feature] = np.where(df[target_feature] >= 5, 5, df[target_feature])\n",
    "    df[target_feature].fillna(0, inplace=True)\n",
    "    return df[target_feature]"
   ]
  },
  {
   "cell_type": "code",
   "execution_count": null,
   "id": "821f7525-460b-476b-8871-a0926a2fef6d",
   "metadata": {},
   "outputs": [],
   "source": [
    "new_columns_names = []\n",
    "for i in col_name:\n",
    "    stackedquarter[i + '_yoy_chg'] = yoychg(stackedquarter, 'cusip', i, i + '_yoy_chg')\n",
    "    new_columns_names.append(i + '_yoy_chg')\n",
    "    stackedquarter[i + '_pct_revenue'] = pct_revenue(stackedquarter, 'cusip', i, i + '_pct_revenue')\n",
    "    new_columns_names.append(i + '_pct_revenue')\n"
   ]
  },
  {
   "cell_type": "code",
   "execution_count": null,
   "id": "1c267137-bd54-4fcd-aed5-cd24b2fbecc8",
   "metadata": {},
   "outputs": [],
   "source": [
    "col_name = [\"revt\", \"capsft\" , \"optvol\" , \"stkcpa\" , \"xrd\" , \"xsga\" , \"stkco\" , \n",
    "            \"cshi\" , \"ch\" , \"dltt\" , \"che\" , \"oiadp\" , \"ni\"]\n",
    "\n",
    "for i in col_name:\n",
    "    stackedannual[i].fillna(0, inplace=True)\n"
   ]
  },
  {
   "cell_type": "code",
   "execution_count": null,
   "id": "eb75b245-c87c-4b9f-b278-cda7834927b4",
   "metadata": {},
   "outputs": [],
   "source": [
    "# identifier = stackedquarter['cusip']\n",
    "def yoychg_annual(df, identifier, feature, target_feature):\n",
    "    df[target_feature] = np.where(df[identifier] == df[identifier].shift(periods=1),\n",
    "    df[feature].diff(periods=1)/ df[feature].abs().shift(periods=4)\n",
    "    , 0)\n",
    "    # Set ceiling and floor of +/-500%\n",
    "    df[target_feature] = np.where(df[target_feature] <= -5, -5, df[target_feature])\n",
    "    df[target_feature] = np.where(df[target_feature] >= 5, 5, df[target_feature])\n",
    "    df[target_feature].fillna(0, inplace=True)\n",
    "    return df[target_feature]"
   ]
  },
  {
   "cell_type": "code",
   "execution_count": null,
   "id": "f8b3d165-8f4c-472c-9dd0-4afc2a698269",
   "metadata": {},
   "outputs": [],
   "source": [
    "def pct_revenue_annual(df, identifier, feature, target_feature):\n",
    "    df[target_feature] = abs(df[feature]) / abs(df['revt'])\n",
    "    # Set ceiling and floor of +/-500%\n",
    "    df[target_feature] = np.where(df[target_feature] <= -5, -5, df[target_feature])\n",
    "    df[target_feature] = np.where(df[target_feature] >= 5, 5, df[target_feature])\n",
    "    df[target_feature].fillna(0, inplace=True)\n",
    "    return df[target_feature]"
   ]
  },
  {
   "cell_type": "code",
   "execution_count": null,
   "id": "69ac0366-02c0-4498-8a85-cc08d7d7f70d",
   "metadata": {},
   "outputs": [],
   "source": [
    "new_columns_names = []\n",
    "for i in col_name:\n",
    "    stackedannual[i + '_yoy_chg'] = yoychg_annual(stackedannual, 'cusip', i, i + '_yoy_chg')\n",
    "    new_columns_names.append(i + '_yoy_chg')\n",
    "    stackedannual[i + '_pct_revenue'] = pct_revenue_annual(stackedannual, 'cusip', i, i + '_pct_revenue')\n",
    "    new_columns_names.append(i + '_pct_revenue')\n"
   ]
  },
  {
   "cell_type": "code",
   "execution_count": 16,
   "id": "dd217db2-5b84-47a0-b1cd-46e36203d9d1",
   "metadata": {},
   "outputs": [],
   "source": [
    "# Source: https://stackoverflow.com/questions/41815079/pandas-merge-join-two-data-frames-on-multiple-columns\n",
    "stackedquarter_annual = pd.merge(\n",
    "    stackedquarter, stackedannual,  how='left', left_on=['cusip','datadate'], right_on = ['cusip','datadate'])"
   ]
  },
  {
   "cell_type": "code",
   "execution_count": null,
   "id": "26e9f6d3-7096-4266-aa84-f4470c0c6c22",
   "metadata": {},
   "outputs": [],
   "source": [
    "s3f.putsummaryquarter(stackedquarter)\n",
    "s3f.putsummaryannual(stackedannual)\n",
    "\n",
    "stackedquarter=None\n",
    "stackedannual=None\n",
    "\n",
    "n = gc.collect()\n",
    "print(\"Number of unreachable objects collected by GC:\", n)"
   ]
  },
  {
   "cell_type": "code",
   "execution_count": 23,
   "id": "0d508954-4c81-47ef-b467-51ec39a95d82",
   "metadata": {},
   "outputs": [
    {
     "name": "stdout",
     "output_type": "stream",
     "text": [
      "CPU times: user 38.3 s, sys: 4.29 s, total: 42.6 s\n",
      "Wall time: 46.5 s\n"
     ]
    }
   ],
   "source": [
    "%%time\n",
    "# stack all the items in the list\n",
    "stackedjoin = s3f.getrawsummaryjoinpricesfund()\n",
    "stackedjoin = stackedjoin.groupby('cusip').\\\n",
    "apply(lambda grp: grp.sort_values('datadate',ascending=True).\\\n",
    "      assign(adjusted_price=grp['prccd']/grp['ajexdi'])).reset_index(drop=True)\n",
    "# calculate price volatility\n",
    "\n",
    "stackedjoin = stackedjoin.groupby(\"cusip\").\\\n",
    "apply(lambda grp: grp.sort_values('datadate',ascending=True).\\\n",
    "      assign(volatility=(np.log(grp['adjusted_price']/\\\n",
    "                                (grp['adjusted_price'].shift())).rolling(21).std())*252**.5)).\\\n",
    "      reset_index(drop=True)\n",
    "stackedjoin[stackedjoin.select_dtypes(include=np.number).columns] = stackedjoin.groupby(\"cusip\").\\\n",
    "apply(lambda grp: grp.select_dtypes(include=np.number).ffill().bfill().fillna(0))"
   ]
  },
  {
   "cell_type": "code",
   "execution_count": 25,
   "id": "64c0c528-ffcd-4118-bed9-44ae9ebf770d",
   "metadata": {},
   "outputs": [
    {
     "data": {
      "text/plain": [
       "datetime.date(2021, 12, 31)"
      ]
     },
     "execution_count": 25,
     "metadata": {},
     "output_type": "execute_result"
    }
   ],
   "source": [
    "stackedjoin['monthly_date'].max()"
   ]
  },
  {
   "cell_type": "code",
   "execution_count": null,
   "id": "f6b3b2bc-ea17-407c-90d9-35ea485c6e2a",
   "metadata": {},
   "outputs": [],
   "source": [
    "# Save all data into the summaries\n",
    "# stackedjoin['ticker'] = stackedjoin['ticker'].astype(str)\n",
    "# stackedjoin['adate'] = stackedjoin['adate'].astype(str)\n",
    "# stackedjoin['iid'] = stackedjoin['iid'].astype(str)\n",
    "s3f.putsummaryjoinpricesfund(stackedjoin)\n",
    "n = gc.collect()\n",
    "print(\"Number of unreachable objects collected by GC:\", n)"
   ]
  },
  {
   "cell_type": "code",
   "execution_count": null,
   "id": "60b4cd6a-2117-4b83-9c02-120e4ed7e166",
   "metadata": {},
   "outputs": [],
   "source": [
    "## Get SPY prices to do comparisons\n",
    "#\n",
    "spyprices_df = s3f.getstockprices(\"SPY\")\n",
    "# put in adjusted prices, should not matter for SPY but just to be careful\n",
    "\n",
    "spyprices_df[['div','divd','dvi','dvrated','eps','epsmo']] =  spyprices_df[['div','divd','dvi','dvrated','eps','epsmo']].fillna(0)\n",
    "# calculate volatitlity\n",
    "spyprices_df = spyprices_df.groupby(\"cusip\").\\\n",
    "apply(lambda grp: grp.sort_values('datadate',ascending=True).\\\n",
    "      assign(volatility=(np.log(grp['adjusted_price']/(grp['adjusted_price'].shift())).rolling(21).std())*252**.5)).reset_index(drop=True)\n",
    "spyprices_df[spyprices_df.select_dtypes(include=np.number).columns] = spyprices_df.groupby(\"cusip\").\\\n",
    "apply(lambda grp: grp.select_dtypes(include=np.number).ffill().bfill().fillna(0))"
   ]
  },
  {
   "cell_type": "code",
   "execution_count": null,
   "id": "30d9c999-5ce0-4fd2-838e-0f0a36df3413",
   "metadata": {},
   "outputs": [],
   "source": [
    "n = gc.collect()\n",
    "print(\"Number of unreachable objects collected by GC:\", n)"
   ]
  },
  {
   "cell_type": "code",
   "execution_count": null,
   "id": "f8a1e16e-05c8-45dd-aa5a-0daf93d8f500",
   "metadata": {},
   "outputs": [],
   "source": [
    "%%time\n",
    "# let's get adjusted prices\n",
    "joinfundsprices = stackedjoin.groupby('cusip').\\\n",
    "apply(lambda grp: grp.sort_values('datadate',ascending=True).\\\n",
    "      assign(adjusted_price=grp['prccd']/grp['ajexdi'])).reset_index(drop=True)\n",
    "\n",
    "## make sure there are no nas\n",
    "\n",
    "joinfundsprices = joinfundsprices.groupby('cusip').\\\n",
    "apply(lambda grp: grp.sort_values('datadate',ascending=True)).\\\n",
    "reset_index(drop=True)\n",
    "joinfundsprices = joinfundsprices.rename(columns={'gvkey_x': 'gvkey'}).drop(columns=['gvkey_y'])\n",
    "\n",
    "# fundamental ratios + Prices + SPY Tables\n",
    "join_spy = pd.merge(\n",
    "  joinfundsprices, spyprices_df[['datadate','one_yr_chg']], how=\"left\", \n",
    "  on=\"datadate\"\n",
    ")\n",
    "n = gc.collect()\n",
    "print(\"Number of unreachable objects collected by GC:\", n)\n",
    "# some values have 0 datadate\n",
    "#\n",
    "join_spy = join_spy[join_spy.datadate != 0]\n",
    "\n",
    "# address any NAs\n",
    "join_spy = join_spy.groupby('cusip').\\\n",
    "apply(lambda grp: grp.sort_values('datadate',ascending=True)).\\\n",
    "      reset_index(drop=True)\n",
    "\n",
    "join_spy['outperformed'] = np.where(join_spy['one_yr_chg_x'] > join_spy['one_yr_chg_y'], 1, 0)\n",
    "join_spy = join_spy.rename(columns={'one_yr_chg_x': 'one_yr_chg', 'one_yr_chg_y': 'one_yr_chg_spy'})\n",
    "\n",
    "# Join Fundamaentals Table to (Ratios + Prices + SPY Tables)\n",
    "stackedquarter_annual = stackedquarter_annual.\\\n",
    "rename(columns={'gvkey_x': 'gvkey','tic_x':'tic'})#.\\\n",
    "#drop(columns=['gvkey_y','tic_y'])\n",
    "stackedquarter_annual = stackedquarter_annual.groupby('cusip').\\\n",
    "apply(lambda grp: grp.sort_values('datadate',ascending=True))\\\n",
    ".reset_index(drop=True)\n",
    "stackedquarter_annual[stackedquarter_annual.select_dtypes(include=np.number).columns] = \\\n",
    "stackedquarter_annual.groupby(\"cusip\").\\\n",
    "apply(lambda grp: grp.select_dtypes(include=np.number).ffill().bfill().fillna(0))\n",
    "\n",
    "join_final = pd.merge(\n",
    "  join_spy, stackedquarter_annual, how=\"left\", \n",
    "  left_on=['cusip', 'monthly_date'], right_on=['cusip', 'datadate']\n",
    ").rename(columns={'gvkey_x': 'gvkey','market_cap_x':'market_cap','datadate_x':'datadate'}).drop(columns=['gvkey_y','market_cap_y','datadate_y'])\n",
    "\n",
    "# address any NAs\n",
    "join_final = join_final.groupby('cusip').\\\n",
    "apply(lambda grp: grp.sort_values('datadate',ascending=True))\\\n",
    ".reset_index(drop=True)\n",
    "join_final[join_final.select_dtypes(include=np.number).columns] = \\\n",
    "join_final.groupby(\"cusip\").\\\n",
    "apply(lambda grp: grp.select_dtypes(include=np.number).ffill().bfill().fillna(0))"
   ]
  },
  {
   "cell_type": "code",
   "execution_count": null,
   "id": "6c368305-342c-4b07-b5b0-1c74aeae811d",
   "metadata": {},
   "outputs": [],
   "source": [
    "#join_final"
   ]
  },
  {
   "cell_type": "code",
   "execution_count": null,
   "id": "5898b818-d047-4357-872e-9f96b8d67383",
   "metadata": {},
   "outputs": [],
   "source": [
    "print(len(stackedjoin))\n",
    "stackedjoin.isna().sum()\n",
    "#stackedjoin=None"
   ]
  },
  {
   "cell_type": "code",
   "execution_count": null,
   "id": "26453226-b42d-4765-8cac-d1cd555fbe6b",
   "metadata": {},
   "outputs": [],
   "source": [
    "print(len(join_final),sum(join_final['outperformed']))"
   ]
  },
  {
   "cell_type": "code",
   "execution_count": null,
   "id": "9e93fb2e-cb2b-4570-ac77-32c607a33c08",
   "metadata": {},
   "outputs": [],
   "source": []
  },
  {
   "cell_type": "code",
   "execution_count": null,
   "id": "6e91be6d-267f-4c91-880c-04e27a1f3aa3",
   "metadata": {},
   "outputs": [],
   "source": [
    "n = gc.collect()\n",
    "print(\"Number of unreachable objects collected by GC:\", n)"
   ]
  },
  {
   "cell_type": "code",
   "execution_count": null,
   "id": "3488527f-8415-4124-a5d2-7ffac1c11794",
   "metadata": {},
   "outputs": [],
   "source": [
    "%%time\n",
    "# Save updated S&P prices\n",
    "s3f.putstockprices(spyprices_df,'SPY')\n",
    "# Save all data into the summaries\n",
    "s3f.putsummaryquarter_annual(stackedquarter_annual)\n",
    "s3f.putsummaryallratioprices(join_spy)\n",
    "s3f.putsummaryallratiopricesfinancial(join_final)\n",
    "pass"
   ]
  },
  {
   "cell_type": "code",
   "execution_count": null,
   "id": "3b2193bb-e9a9-4fef-ac7c-87280aee4f9e",
   "metadata": {},
   "outputs": [],
   "source": []
  },
  {
   "cell_type": "code",
   "execution_count": null,
   "id": "0620e394-fd5f-4f9a-8399-5cdcf769de91",
   "metadata": {},
   "outputs": [],
   "source": [
    "# print(len(stackedquarter_annual))\n",
    "# stackedquarter_annual.isna().sum()"
   ]
  },
  {
   "cell_type": "code",
   "execution_count": null,
   "id": "1415aa00-2958-4097-8c6d-7dc2dd578ba3",
   "metadata": {},
   "outputs": [],
   "source": [
    "# print(len(join_spy))\n",
    "# join_spy.isna().sum()"
   ]
  },
  {
   "cell_type": "code",
   "execution_count": null,
   "id": "b13c1fde-326f-4fe2-8f9a-2caf3aa296b0",
   "metadata": {},
   "outputs": [],
   "source": [
    "# print(len(join_final))\n",
    "# print(join_final.isna().sum().to_string())\n",
    "# print(len(join_final.dropna()))"
   ]
  }
 ],
 "metadata": {
  "kernelspec": {
   "display_name": "Python 3 (ipykernel)",
   "language": "python",
   "name": "python3"
  },
  "language_info": {
   "codemirror_mode": {
    "name": "ipython",
    "version": 3
   },
   "file_extension": ".py",
   "mimetype": "text/x-python",
   "name": "python",
   "nbconvert_exporter": "python",
   "pygments_lexer": "ipython3",
   "version": "3.9.4"
  }
 },
 "nbformat": 4,
 "nbformat_minor": 5
}
