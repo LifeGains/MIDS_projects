{
 "cells": [
  {
   "cell_type": "markdown",
   "metadata": {},
   "source": [
    "# Final Project\n",
    "\n",
    "MIDS W281: Computer Vision"
   ]
  },
  {
   "cell_type": "markdown",
   "metadata": {},
   "source": [
    "![Teaser](https://raw.githubusercontent.com/W281/fileRepository/main/Assignments/final_project/teaser.png)"
   ]
  },
  {
   "cell_type": "markdown",
   "metadata": {},
   "source": [
    " ### Overview\n",
    "This project will consist of a large dataset including images from 20 different categories. Your task is to identify key distinguishing features of these images and develop models to classify them in Python. To successfully train a classifier we need to do data cleaning, feature exploration, model parameter selection, and model selection. In this project, you will do all of these steps. You will extract different image features, visualize those features, train several models, and explain the process in a report. Most of the concepts, like feature extraction and visualization, are already taught in the class. The classification techniques will be covered soon. We recommend that you start working on the project as early as possible.\n",
    "\n",
    "### Description"
   ]
  },
  {
   "cell_type": "markdown",
   "metadata": {},
   "source": [
    "1. **Feature** Extraction: The first step for a classification task is identifying discriminative features. For this, you can use simple features like image intensity or you can extract more sophisticated features like the convolutional neural network (CNN) based features. Additionally, you can use either a single channel or all three color channels for feature computation (image color can sometimes provide an additional cue for classification). Write separate Python functions to extract each of the following image features given an RGB image as input:\n",
    "    a. Histogram of Oriented Gradients (HOG): This is the feature you learned in the class. You can use Python's sklearn library for extracting this feature. In your report, include plot(s) visualizing the HOG features for an image and explain how you decided the size of the window for HOG computation.\n",
    "    b. Harris Corner Features: As you learned during motion estimation, image corners are robust features for tracking. One way to detect corners is by using an algorithm by Chris Harris & Mike Stephens, Harris corner detector (suggested [reading](https://docs.opencv.org/3.0-beta/doc/py_tutorials/py_feature2d/py_features_harris/py_features_harris.html#harris-corners)). Again, you can use Python's sklearn or OpenCV implementation of Harris Corner detection algorithms. In your report, include plot(s) visualizing these features for an image and explain how you selected different parameters for the detector.\n",
    "    c. Two features of your choice: Implement two additional features of your choice which can help in the classification task. These features can be as simple as image intensity or state-of-the-art image classification features extracted using a CNN pre-trained on ImageNet. In your report, include plot(s) in order to explain the features you implemented and why you selected these features."
   ]
  },
  {
   "cell_type": "markdown",
   "metadata": {},
   "source": [
    "2. **Feature Visualization**: Load the images provided in the `20_categories_training` directory. The images are divided into 20 categoreis. Visualize the above features for these images on 2-D plots. As these features are high dimensional, you will need to reduce the dimensionality of these features. Remember PCA and t-SNE for dimensionality reduction. You can use any of these dimensionality reduction techniques for visualizing the features on a 2-D plot. You can use only a small set of images from each of the 20 categories. Use Python's sklearn library for t-SNE or PCA. In the 2-D plot, use different colors to represent images from different categories. In your report, include plot(s) to show the visualization of the features (you can also use combination of multiple features) on 2-D plot. Explain which features and dimensionality reduction technique you used for the plots and why. Also, explain if there is anything interesting you observed while exploring the features.   "
   ]
  },
  {
   "cell_type": "markdown",
   "metadata": {},
   "source": [
    "3. **Image Classification**: Split the images from each category into training and validation dataset. Generally, it is done by randomly selecting 80% images from each class for training and 20% for validation. You will train the models using training data, tune the hyper-parameters for the classifiers using validation dataset. You will train multiple classification models here. For each classification model, you can use sklearn library functions. Use the following classification techniques that you learned in the class using the features you implemented above: Logistic Regression, nearest-neighbor clustering, SVM, and CNN (optional). Use the validation set to compute the accuracy throughout the process, with and without different features, optimizing as much as possible. Use tricks like cross-validation and hyper-parameter tuning to ensure your model is generalizing to validation dataset.   "
   ]
  },
  {
   "cell_type": "markdown",
   "metadata": {},
   "source": [
    "4. Run the model of your choice (that gives the best accuracy on the validation data) on the test data provided in `20_categories_test` directory. Generate a csv of classification results for all the images. The csv will have two columns: name and label that specify the image name and the output class label. Include this csv in your submission."
   ]
  },
  {
   "cell_type": "markdown",
   "metadata": {},
   "source": [
    "### Deliverables:\n",
    "\n",
    "You will submit your code, classification results on test data, and a report. In the report (maximum three pages), you will explain the process and things you learned in the project. You will be graded on the correctness of the code, clarity of your report, and your model accuracy on the test data."
   ]
  }
 ],
 "metadata": {
  "kernelspec": {
   "display_name": "Python 3",
   "language": "python",
   "name": "python3"
  },
  "language_info": {
   "codemirror_mode": {
    "name": "ipython",
    "version": 3
   },
   "file_extension": ".py",
   "mimetype": "text/x-python",
   "name": "python",
   "nbconvert_exporter": "python",
   "pygments_lexer": "ipython3",
   "version": "3.9.7"
  }
 },
 "nbformat": 4,
 "nbformat_minor": 2
}
